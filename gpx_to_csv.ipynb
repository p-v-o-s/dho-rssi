{
 "cells": [
  {
   "cell_type": "code",
   "execution_count": 1,
   "metadata": {
    "collapsed": true
   },
   "outputs": [],
   "source": [
    "from xml.dom.minidom import parseString"
   ]
  },
  {
   "cell_type": "code",
   "execution_count": 3,
   "metadata": {
    "collapsed": true
   },
   "outputs": [],
   "source": [
    "fname = './data/DHO_cwv.gpx'\n",
    "doc = open(fname).read()\n",
    "dom = parseString(doc)"
   ]
  },
  {
   "cell_type": "markdown",
   "metadata": {},
   "source": [
    "After looking a the file, it is apparent that all the interesting information is wrapped in  <trkpt> tags"
   ]
  },
  {
   "cell_type": "code",
   "execution_count": 17,
   "metadata": {
    "collapsed": false
   },
   "outputs": [
    {
     "name": "stdout",
     "output_type": "stream",
     "text": [
      "801\n"
     ]
    }
   ],
   "source": [
    "pts = dom.getElementsByTagName('trkpt'); print(len(pts))"
   ]
  },
  {
   "cell_type": "markdown",
   "metadata": {},
   "source": [
    "To prototype the conversion to Python numerical types, let's look at a <trpkt> example:\n",
    "```xml\n",
    "<trkpt lat=\"43.15733\" lon=\"-70.976616\"><ele>48.8</ele><extensions><x:speed>0.0</x:speed></extensions><time>2016-02-28T18:21:04.000Z</time></trkpt>\n",
    "```"
   ]
  },
  {
   "cell_type": "code",
   "execution_count": 43,
   "metadata": {
    "collapsed": false
   },
   "outputs": [
    {
     "name": "stdout",
     "output_type": "stream",
     "text": [
      "43.15733 -70.976616 48.8 0.0\n",
      "2016-02-28T18:21:04.000Z\n"
     ]
    }
   ],
   "source": [
    "pt0 = pts[0]\n",
    "lat = float(pt0.attributes['lat'].value) #the value a named attribute of <trkpt>\n",
    "lon = float(pt0.attributes['lon'].value) #the value a named attribute of <trkpt>\n",
    "ele = float(pt0.getElementsByTagName(\"ele\")[0].firstChild.data)  #the value in a Text node the first and only child in this tag\n",
    "speed = float(pt0.getElementsByTagName(\"x:speed\")[0].firstChild.data)\n",
    "timestr = pt0.getElementsByTagName(\"time\")[0].firstChild.data\n",
    "print(lat,lon,ele, speed); print(timestr)"
   ]
  },
  {
   "cell_type": "markdown",
   "metadata": {},
   "source": [
    "Now should we convert that pesky time string into a nice simple Unix Epoch time, lets check out the `strptime` of `datetime` objects, see this [doc link](https://docs.python.org/2/library/datetime.html#strftime-strptime-behavior)\n"
   ]
  },
  {
   "cell_type": "code",
   "execution_count": 45,
   "metadata": {
    "collapsed": false
   },
   "outputs": [],
   "source": [
    "from datetime import datetime \n",
    "ts = datetime.strptime(\"Thu, 03 Oct 2013 14:55:44 GMT\", \"%a, %d %b %Y %X %Z\")\n",
    "ts = datetime.strptime(\"Thu, 03 Oct 2013 14:55:44 GMT\", \"%a, %d %b %Y %X %Z\")"
   ]
  },
  {
   "cell_type": "code",
   "execution_count": 46,
   "metadata": {
    "collapsed": false
   },
   "outputs": [
    {
     "data": {
      "text/plain": [
       "datetime.datetime(2013, 10, 3, 14, 55, 44)"
      ]
     },
     "execution_count": 46,
     "metadata": {},
     "output_type": "execute_result"
    }
   ],
   "source": [
    "ts"
   ]
  },
  {
   "cell_type": "code",
   "execution_count": null,
   "metadata": {
    "collapsed": true
   },
   "outputs": [],
   "source": []
  }
 ],
 "metadata": {
  "kernelspec": {
   "display_name": "Python 3",
   "language": "python",
   "name": "python3"
  },
  "language_info": {
   "codemirror_mode": {
    "name": "ipython",
    "version": 3
   },
   "file_extension": ".py",
   "mimetype": "text/x-python",
   "name": "python",
   "nbconvert_exporter": "python",
   "pygments_lexer": "ipython3",
   "version": "3.4.3+"
  }
 },
 "nbformat": 4,
 "nbformat_minor": 0
}
